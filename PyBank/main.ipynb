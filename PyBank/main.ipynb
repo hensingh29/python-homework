{
 "cells": [
  {
   "cell_type": "markdown",
   "metadata": {},
   "source": [
    "## PyBank\n",
    "* budget_data.csv; 2 columns (data and profit/loss)\n",
    "* total number of months included in the dataset\n",
    "* net total amount of profit/loss over entire period\n",
    "* average of the changes in profit/losses over entire period\n",
    "* greatest increase in profits (date and amount) \n",
    "* greatest decrease in profits (date and amount)\n",
    "\n",
    "* export text file with results"
   ]
  },
  {
   "cell_type": "code",
   "execution_count": 53,
   "metadata": {},
   "outputs": [
    {
     "data": {
      "text/html": [
       "<div>\n",
       "<style scoped>\n",
       "    .dataframe tbody tr th:only-of-type {\n",
       "        vertical-align: middle;\n",
       "    }\n",
       "\n",
       "    .dataframe tbody tr th {\n",
       "        vertical-align: top;\n",
       "    }\n",
       "\n",
       "    .dataframe thead th {\n",
       "        text-align: right;\n",
       "    }\n",
       "</style>\n",
       "<table border=\"1\" class=\"dataframe\">\n",
       "  <thead>\n",
       "    <tr style=\"text-align: right;\">\n",
       "      <th></th>\n",
       "      <th>Date</th>\n",
       "      <th>Profit/Losses</th>\n",
       "    </tr>\n",
       "  </thead>\n",
       "  <tbody>\n",
       "    <tr>\n",
       "      <th>0</th>\n",
       "      <td>Jan-2010</td>\n",
       "      <td>867884</td>\n",
       "    </tr>\n",
       "    <tr>\n",
       "      <th>1</th>\n",
       "      <td>Feb-2010</td>\n",
       "      <td>984655</td>\n",
       "    </tr>\n",
       "    <tr>\n",
       "      <th>2</th>\n",
       "      <td>Mar-2010</td>\n",
       "      <td>322013</td>\n",
       "    </tr>\n",
       "    <tr>\n",
       "      <th>3</th>\n",
       "      <td>Apr-2010</td>\n",
       "      <td>-69417</td>\n",
       "    </tr>\n",
       "    <tr>\n",
       "      <th>4</th>\n",
       "      <td>May-2010</td>\n",
       "      <td>310503</td>\n",
       "    </tr>\n",
       "    <tr>\n",
       "      <th>5</th>\n",
       "      <td>Jun-2010</td>\n",
       "      <td>522857</td>\n",
       "    </tr>\n",
       "    <tr>\n",
       "      <th>6</th>\n",
       "      <td>Jul-2010</td>\n",
       "      <td>1033096</td>\n",
       "    </tr>\n",
       "    <tr>\n",
       "      <th>7</th>\n",
       "      <td>Aug-2010</td>\n",
       "      <td>604885</td>\n",
       "    </tr>\n",
       "    <tr>\n",
       "      <th>8</th>\n",
       "      <td>Sep-2010</td>\n",
       "      <td>-216386</td>\n",
       "    </tr>\n",
       "    <tr>\n",
       "      <th>9</th>\n",
       "      <td>Oct-2010</td>\n",
       "      <td>477532</td>\n",
       "    </tr>\n",
       "    <tr>\n",
       "      <th>10</th>\n",
       "      <td>Nov-2010</td>\n",
       "      <td>893810</td>\n",
       "    </tr>\n",
       "    <tr>\n",
       "      <th>11</th>\n",
       "      <td>Dec-2010</td>\n",
       "      <td>-80353</td>\n",
       "    </tr>\n",
       "    <tr>\n",
       "      <th>12</th>\n",
       "      <td>Jan-2011</td>\n",
       "      <td>779806</td>\n",
       "    </tr>\n",
       "    <tr>\n",
       "      <th>13</th>\n",
       "      <td>Feb-2011</td>\n",
       "      <td>-335203</td>\n",
       "    </tr>\n",
       "    <tr>\n",
       "      <th>14</th>\n",
       "      <td>Mar-2011</td>\n",
       "      <td>697845</td>\n",
       "    </tr>\n",
       "    <tr>\n",
       "      <th>15</th>\n",
       "      <td>Apr-2011</td>\n",
       "      <td>793163</td>\n",
       "    </tr>\n",
       "    <tr>\n",
       "      <th>16</th>\n",
       "      <td>May-2011</td>\n",
       "      <td>485070</td>\n",
       "    </tr>\n",
       "    <tr>\n",
       "      <th>17</th>\n",
       "      <td>Jun-2011</td>\n",
       "      <td>584122</td>\n",
       "    </tr>\n",
       "    <tr>\n",
       "      <th>18</th>\n",
       "      <td>Jul-2011</td>\n",
       "      <td>62729</td>\n",
       "    </tr>\n",
       "    <tr>\n",
       "      <th>19</th>\n",
       "      <td>Aug-2011</td>\n",
       "      <td>668179</td>\n",
       "    </tr>\n",
       "  </tbody>\n",
       "</table>\n",
       "</div>"
      ],
      "text/plain": [
       "        Date  Profit/Losses\n",
       "0   Jan-2010         867884\n",
       "1   Feb-2010         984655\n",
       "2   Mar-2010         322013\n",
       "3   Apr-2010         -69417\n",
       "4   May-2010         310503\n",
       "5   Jun-2010         522857\n",
       "6   Jul-2010        1033096\n",
       "7   Aug-2010         604885\n",
       "8   Sep-2010        -216386\n",
       "9   Oct-2010         477532\n",
       "10  Nov-2010         893810\n",
       "11  Dec-2010         -80353\n",
       "12  Jan-2011         779806\n",
       "13  Feb-2011        -335203\n",
       "14  Mar-2011         697845\n",
       "15  Apr-2011         793163\n",
       "16  May-2011         485070\n",
       "17  Jun-2011         584122\n",
       "18  Jul-2011          62729\n",
       "19  Aug-2011         668179"
      ]
     },
     "execution_count": 53,
     "metadata": {},
     "output_type": "execute_result"
    }
   ],
   "source": [
    "# import pandas\n",
    "import pandas as pd\n",
    "\n",
    "# load data\n",
    "budget = pd.read_csv('budgetdata.csv')\n",
    "\n",
    "# view data\n",
    "budget.head(20)\n",
    "\n"
   ]
  },
  {
   "cell_type": "code",
   "execution_count": 55,
   "metadata": {},
   "outputs": [
    {
     "data": {
      "text/html": [
       "<div>\n",
       "<style scoped>\n",
       "    .dataframe tbody tr th:only-of-type {\n",
       "        vertical-align: middle;\n",
       "    }\n",
       "\n",
       "    .dataframe tbody tr th {\n",
       "        vertical-align: top;\n",
       "    }\n",
       "\n",
       "    .dataframe thead th {\n",
       "        text-align: right;\n",
       "    }\n",
       "</style>\n",
       "<table border=\"1\" class=\"dataframe\">\n",
       "  <thead>\n",
       "    <tr style=\"text-align: right;\">\n",
       "      <th></th>\n",
       "      <th>Profit/Losses</th>\n",
       "    </tr>\n",
       "    <tr>\n",
       "      <th>Date</th>\n",
       "      <th></th>\n",
       "    </tr>\n",
       "  </thead>\n",
       "  <tbody>\n",
       "    <tr>\n",
       "      <th>Jan-2010</th>\n",
       "      <td>867884</td>\n",
       "    </tr>\n",
       "    <tr>\n",
       "      <th>Feb-2010</th>\n",
       "      <td>984655</td>\n",
       "    </tr>\n",
       "    <tr>\n",
       "      <th>Mar-2010</th>\n",
       "      <td>322013</td>\n",
       "    </tr>\n",
       "    <tr>\n",
       "      <th>Apr-2010</th>\n",
       "      <td>-69417</td>\n",
       "    </tr>\n",
       "    <tr>\n",
       "      <th>May-2010</th>\n",
       "      <td>310503</td>\n",
       "    </tr>\n",
       "  </tbody>\n",
       "</table>\n",
       "</div>"
      ],
      "text/plain": [
       "          Profit/Losses\n",
       "Date                   \n",
       "Jan-2010         867884\n",
       "Feb-2010         984655\n",
       "Mar-2010         322013\n",
       "Apr-2010         -69417\n",
       "May-2010         310503"
      ]
     },
     "execution_count": 55,
     "metadata": {},
     "output_type": "execute_result"
    }
   ],
   "source": [
    "# view types of data\n",
    "budget.dtypes\n",
    "\n",
    "budget = budget.set_index('Date')\n",
    "\n",
    "\n",
    "budget.head()\n"
   ]
  },
  {
   "cell_type": "code",
   "execution_count": 56,
   "metadata": {},
   "outputs": [
    {
     "name": "stdout",
     "output_type": "stream",
     "text": [
      "Total Months: 86\n"
     ]
    }
   ],
   "source": [
    "# number of months in data\n",
    "\n",
    "totalmonths = budget.shape[0]\n",
    "monthsformatted = (f\"Total Months: {totalmonths}\")\n",
    "print(monthsformatted)"
   ]
  },
  {
   "cell_type": "code",
   "execution_count": 57,
   "metadata": {},
   "outputs": [
    {
     "data": {
      "text/plain": [
       "'Total: $38382578'"
      ]
     },
     "execution_count": 57,
     "metadata": {},
     "output_type": "execute_result"
    }
   ],
   "source": [
    "# net amount of profits/losses \n",
    "netprofit = budget['Profit/Losses'].sum()\n",
    "netprofitformatted = (f'Total: ${netprofit}')\n",
    "netprofitformatted"
   ]
  },
  {
   "cell_type": "code",
   "execution_count": 58,
   "metadata": {},
   "outputs": [
    {
     "name": "stdout",
     "output_type": "stream",
     "text": [
      "Average Change: $-2315.12\n"
     ]
    }
   ],
   "source": [
    "# average of changes\n",
    "\n",
    "budget['shift1'] = budget['Profit/Losses'].shift(1)\n",
    "budget.head()\n",
    "\n",
    "# new column net change\n",
    "budget['netchange'] = budget['Profit/Losses'] - budget['shift1']\n",
    "budget.head()\n",
    "\n",
    "#average over the net change column\n",
    "avg_change = budget['netchange'].mean()\n",
    "avgchangeformatted = (f'Average Change: ${round(avg_change,2)}')\n",
    "print(avgchangeformatted)"
   ]
  },
  {
   "cell_type": "code",
   "execution_count": 61,
   "metadata": {},
   "outputs": [
    {
     "data": {
      "text/plain": [
       "'Greatest Increase in Profits: Feb-2012 ($1926159)'"
      ]
     },
     "execution_count": 61,
     "metadata": {},
     "output_type": "execute_result"
    }
   ],
   "source": [
    "# greatest increase\n",
    "largestincrease = budget['netchange'].max()\n",
    "increaserounded = round(largestincrease,)\n",
    "\n",
    "# date of increase\n",
    "budget.head()\n",
    "\n",
    "increasedate = (budget.netchange[budget.netchange == largestincrease].index.tolist())\n",
    "increasedateformatted = increasedate[0]\n",
    "\n",
    "increaseformatted = (f\"Greatest Increase in Profits: {increasedateformatted} (${increaserounded})\")\n",
    "increaseformatted"
   ]
  },
  {
   "cell_type": "code",
   "execution_count": 63,
   "metadata": {},
   "outputs": [
    {
     "data": {
      "text/plain": [
       "'Greated Decrease in Profits: Sep-2013 ($-2196167)'"
      ]
     },
     "execution_count": 63,
     "metadata": {},
     "output_type": "execute_result"
    }
   ],
   "source": [
    "# greatest decrease\n",
    "largestdecrease = budget['netchange'].min()\n",
    "decreaserounded = round(largestdecrease,)\n",
    "\n",
    "decreasedate = budget.netchange[budget.netchange == largestdecrease].index.tolist()\n",
    "decreasedateformatted = decreasedate[0]\n",
    "\n",
    "decreaseformatted = (f\"Greated Decrease in Profits: {decreasedateformatted} (${decreaserounded})\")\n",
    "decreaseformatted"
   ]
  },
  {
   "cell_type": "code",
   "execution_count": 64,
   "metadata": {},
   "outputs": [],
   "source": [
    "#create financial analysis and write to new text file\n",
    "with open ('Pybank.txt','w') as file:\n",
    "    file.write('Financial Analysis')\n",
    "    file.write('\\n')\n",
    "    file.write('--------------------------')\n",
    "    file.write('\\n')\n",
    "    file.write(monthsformatted)\n",
    "    file.write('\\n')\n",
    "    file.write(netprofitformatted)\n",
    "    file.write('\\n')\n",
    "    file.write(avgchangeformatted)\n",
    "    file.write('\\n')\n",
    "    file.write(increaseformatted)\n",
    "    file.write('\\n')\n",
    "    file.write(decreaseformatted)"
   ]
  },
  {
   "cell_type": "code",
   "execution_count": null,
   "metadata": {},
   "outputs": [],
   "source": []
  }
 ],
 "metadata": {
  "kernelspec": {
   "display_name": "Python 3",
   "language": "python",
   "name": "python3"
  },
  "language_info": {
   "codemirror_mode": {
    "name": "ipython",
    "version": 3
   },
   "file_extension": ".py",
   "mimetype": "text/x-python",
   "name": "python",
   "nbconvert_exporter": "python",
   "pygments_lexer": "ipython3",
   "version": "3.8.3"
  }
 },
 "nbformat": 4,
 "nbformat_minor": 4
}
